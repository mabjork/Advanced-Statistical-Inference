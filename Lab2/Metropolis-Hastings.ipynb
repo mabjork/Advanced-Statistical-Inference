{
 "cells": [
  {
   "cell_type": "markdown",
   "metadata": {},
   "source": [
    "<h1 style=\"text-align:center\">Advanced Statistical Inference</h1>\n",
    "<h1 style=\"text-align:center\">Bayesian Logistic Regression - Metropolis-Hastings</h1>\n",
    "\n"
   ]
  },
  {
   "cell_type": "markdown",
   "metadata": {},
   "source": [
    "## 1. Aims\n",
    "<div class=\"alert alert-info\">\n",
    "<ul> \n",
    "<li> To implement the MH algorithm.\n",
    "<li> To use it to compute classification probabilities.\n",
    "</ul>\n",
    "</div>"
   ]
  },
  {
   "cell_type": "markdown",
   "metadata": {},
   "source": [
    "## 2. Metropolis-Hastings\n",
    "<div class=\"alert alert-info\">\n",
    "In this lab, youâ€™re going to implement the Metropolis-Hasting algorithm described in the lecture.\n",
    "Use the binary classification data `binaryclass2.mat` and the function `laplacecomp()`. If you\n",
    "pass this function a 2-dimensional $w$ vector, it will return $g(w; X, t, \\sigma^2)$ and $log(g(w; X, t, \\sigma^2))$.\n",
    "(Remember that $g(w; X, t, \\sigma^2) \\propto p(w|X, t, \\sigma^2)$, the posterior density of interest.)\n",
    "</div>"
   ]
  },
  {
   "cell_type": "code",
   "execution_count": 31,
   "metadata": {},
   "outputs": [],
   "source": [
    "import scipy.io\n",
    "from scipy import stats\n",
    "import numpy as np\n",
    "import matplotlib.pyplot as plt\n",
    "import seaborn as sns\n",
    "mat = scipy.io.loadmat('binaryclass2.mat')"
   ]
  },
  {
   "cell_type": "code",
   "execution_count": 3,
   "metadata": {},
   "outputs": [],
   "source": [
    "X = mat['X']\n",
    "t = mat['t']"
   ]
  },
  {
   "cell_type": "markdown",
   "metadata": {},
   "source": [
    "<div class=\"alert alert-info\">\n",
    "Visualise the data using a scatter plot.\n",
    "</div>"
   ]
  },
  {
   "cell_type": "code",
   "execution_count": 4,
   "metadata": {},
   "outputs": [
    {
     "data": {
      "text/plain": [
       "<matplotlib.collections.PathCollection at 0x7f3a7bf4bc88>"
      ]
     },
     "execution_count": 4,
     "metadata": {},
     "output_type": "execute_result"
    },
    {
     "data": {
      "image/png": "[encoded data removed]",
      "text/plain": [
       "<Figure size 432x288 with 1 Axes>"
      ]
     },
     "metadata": {},
     "output_type": "display_data"
    }
   ],
   "source": [
    "plt.scatter(X[:,0],X[:,1])"
   ]
  },
  {
   "cell_type": "markdown",
   "metadata": {},
   "source": [
    "<div class=\"alert alert-info\">\n",
    "Make sure `laplacecomp()` works by passing it some different $w$ vectors ($w$ needs to have\n",
    "dimension 2Ã—1).</div>"
   ]
  },
  {
   "cell_type": "code",
   "execution_count": 5,
   "metadata": {},
   "outputs": [],
   "source": [
    "def laplacecomp(w,X,t):\n",
    "    \"\"\"This function computes g and log(g) for the laplace model introduced in the lecture.\"\"\"\n",
    "    w = np.array(w)\n",
    "    X = np.array(X)\n",
    "    t = np.array(t)\n",
    "    ss = 10 # Prior variance (sigma squared)\n",
    "    # Evaluate log prior\n",
    "    log_g = -(1/(2*ss))*w.T.dot(w)\n",
    "    # Compute P\n",
    "    P = 1/(1+np.exp(-X.dot(w)))\n",
    "    log_l = np.sum(t*np.log(P) + (1-t)*(np.log(1-P)))\n",
    "    log_g = log_g + log_l\n",
    "    g = np.exp(log_g)\n",
    "    return g[0][0], log_g[0][0]"
   ]
  },
  {
   "cell_type": "code",
   "execution_count": 14,
   "metadata": {},
   "outputs": [
    {
     "name": "stdout",
     "output_type": "stream",
     "text": [
      "0.020472450832929995\n"
     ]
    }
   ],
   "source": [
    "w = np.array([[4],[-1]])\n",
    "g,log_g = laplacecomp(w,X,t)\n",
    "print(g)"
   ]
  },
  {
   "cell_type": "markdown",
   "metadata": {},
   "source": [
    "<div class=\"alert alert-info\">\n",
    "\n",
    "Implement the MH algorithm (see the flowchart in the slides). \n",
    "<br>\n",
    "You might find it safest to work with $log(g)$ â€“ the ratio then becomes a subtraction that must then be exponentiated. This has more numerical stability, especially when $w$ isnâ€™t very good. You can start with any value of $w$. E.g., $w = randn(2,1)$. Also, use a Gaussian proposal: For example: $wp = randn(2,1)*0.5+w$ where $w$ is the current sample and $wp$ is the proposal and the Gaussian has standard deviation $0.5$ (set this as you please).\n",
    "</div>"
   ]
  },
  {
   "cell_type": "code",
   "execution_count": 22,
   "metadata": {},
   "outputs": [
    {
     "data": {
      "text/plain": [
       "[array([[-0.92259609],\n",
       "        [-1.19073276]]), array([[-1.37787013],\n",
       "        [-1.33801414]])]"
      ]
     },
     "execution_count": 22,
     "metadata": {},
     "output_type": "execute_result"
    }
   ],
   "source": [
    "def MH(X, t, numSamples):\n",
    "    w_samples = []\n",
    "    cov_mat = [[1,0],[0,1]]\n",
    "    w = np.random.randn(2,1)\n",
    "    r = np.zeros(2)\n",
    "    _,p = laplacecomp(w,X,t)\n",
    "    for i in range(numSamples):\n",
    "        wp= np.random.randn(2,1) * 0.5 + w\n",
    "        _,pn = laplacecomp(wp,X,t)\n",
    "        \n",
    "        if(pn > p):\n",
    "            w_samples.append(wp)\n",
    "            p = pn\n",
    "            w = wp\n",
    "        else:\n",
    "            u = np.random.rand()\n",
    "            if(u < pn/p):\n",
    "                w_samples.append(wp)\n",
    "                p = pn\n",
    "                w = wp\n",
    "        \n",
    "    return w_samples\n",
    "\n"
   ]
  },
  {
   "cell_type": "markdown",
   "metadata": {},
   "source": [
    "<div class=\"alert alert-info\">\n",
    "Draw samples from your MH algorithm and plot the distribution of values obtained.\n",
    "</div>"
   ]
  },
  {
   "cell_type": "code",
   "execution_count": 29,
   "metadata": {},
   "outputs": [
    {
     "name": "stderr",
     "output_type": "stream",
     "text": [
      "/home/marius/.local/lib/python3.6/site-packages/ipykernel_launcher.py:11: RuntimeWarning: divide by zero encountered in log\n",
      "  # This is added back by InteractiveShellApp.init_path()\n",
      "/home/marius/.local/lib/python3.6/site-packages/ipykernel_launcher.py:17: RuntimeWarning: invalid value encountered in double_scalars\n",
      "/home/marius/.local/lib/python3.6/site-packages/ipykernel_launcher.py:11: RuntimeWarning: invalid value encountered in multiply\n",
      "  # This is added back by InteractiveShellApp.init_path()\n"
     ]
    }
   ],
   "source": [
    "numSamples = 10000\n",
    "w_samples = MH(X,t, numSamples)\n",
    "x = np.array(w_samples).reshape(len(w_samples),2)"
   ]
  },
  {
   "cell_type": "code",
   "execution_count": 34,
   "metadata": {},
   "outputs": [
    {
     "data": {
      "text/plain": [
       "<matplotlib.axes._subplots.AxesSubplot at 0x7f3a70db6128>"
      ]
     },
     "execution_count": 34,
     "metadata": {},
     "output_type": "execute_result"
    },
    {
     "data": {
      "image/png": "[encoded data removed]",
      "text/plain": [
       "<Figure size 432x288 with 1 Axes>"
      ]
     },
     "metadata": {},
     "output_type": "display_data"
    }
   ],
   "source": [
    "sns.kdeplot(x[:,0],x[:,1],shade=True)"
   ]
  },
  {
   "cell_type": "markdown",
   "metadata": {},
   "source": [
    "<div class=\"alert alert-info\">\n",
    "Compute the probability $P (t_{new} = 1 | x_{new} , X, t)$ when $x_{new} = [2,-4]^T$ . \n",
    "<br>\n",
    "Hint â€“ compute the probability for each value of $w$ using:\n",
    "$$ \\dfrac{1}{1+\\exp(-w^T x_{new})} $$\n",
    "</div>"
   ]
  },
  {
   "cell_type": "code",
   "execution_count": 38,
   "metadata": {},
   "outputs": [],
   "source": [
    "def predict(samples, x_new):\n",
    "    p = 0\n",
    "    for sample in samples:\n",
    "        p += 1/(1+np.exp(-sample.T.dot(x_new)))/len(samples)\n",
    "    return p"
   ]
  },
  {
   "cell_type": "code",
   "execution_count": 39,
   "metadata": {},
   "outputs": [
    {
     "data": {
      "text/plain": [
       "array([0.1888367])"
      ]
     },
     "execution_count": 39,
     "metadata": {},
     "output_type": "execute_result"
    }
   ],
   "source": [
    "x_new = np.array([2,-4])\n",
    "predict(w_samples, x_new)"
   ]
  },
  {
   "cell_type": "markdown",
   "metadata": {},
   "source": [
    "<div class=\"alert alert-success\">\n",
    "Create a contour plot over the given range of values, while also showing the prediction for ${x_{new}}$.\n",
    "</div>"
   ]
  },
  {
   "cell_type": "code",
   "execution_count": 40,
   "metadata": {},
   "outputs": [
    {
     "data": {
      "text/plain": [
       "<matplotlib.axes._subplots.AxesSubplot at 0x7f3a70da2630>"
      ]
     },
     "execution_count": 40,
     "metadata": {},
     "output_type": "execute_result"
    },
    {
     "data": {
      "image/png": "[encoded data removed]",
      "text/plain": [
       "<Figure size 432x288 with 1 Axes>"
      ]
     },
     "metadata": {},
     "output_type": "display_data"
    }
   ],
   "source": [
    "x1min, x1max, x1step = (-6, 6.5, 0.5)\n",
    "x2min, x2max, x2step = (-6, 6.5, 0.5)\n",
    "x1_range = np.arange(x1min, x1max, x1step)\n",
    "x2_range = np.arange(x2min, x2max, x2step)\n",
    "\n",
    "sns.kdeplot(x1_range,x2_range,shade=True)"
   ]
  },
  {
   "cell_type": "code",
   "execution_count": null,
   "metadata": {},
   "outputs": [],
   "source": []
  },
  {
   "cell_type": "markdown",
   "metadata": {},
   "source": [
    "<div class=\"alert alert-success\">\n",
    "Comment on the plot.\n",
    "</div>"
   ]
  },
  {
   "cell_type": "code",
   "execution_count": null,
   "metadata": {},
   "outputs": [],
   "source": []
  }
 ],
 "metadata": {
  "kernelspec": {
   "display_name": "Python 3",
   "language": "python",
   "name": "python3"
  },
  "language_info": {
   "codemirror_mode": {
    "name": "ipython",
    "version": 3
   },
   "file_extension": ".py",
   "mimetype": "text/x-python",
   "name": "python",
   "nbconvert_exporter": "python",
   "pygments_lexer": "ipython3",
   "version": "3.6.3"
  }
 },
 "nbformat": 4,
 "nbformat_minor": 2
}
